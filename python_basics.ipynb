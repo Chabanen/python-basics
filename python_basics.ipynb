{
 "cells": [
  {
   "cell_type": "code",
   "execution_count": 28,
   "id": "7e14299d",
   "metadata": {
    "scrolled": true
   },
   "outputs": [
    {
     "name": "stdout",
     "output_type": "stream",
     "text": [
      "Enter your first name:  Kana\n",
      "Enter your last name: Chabane\n",
      "Chabane Kana\n"
     ]
    }
   ],
   "source": [
    "# question 1\n",
    "fn= input(\"Enter your first name:  \")\n",
    "ln= input(\"Enter your last name: \")\n",
    "print(ln + \" \" + fn )"
   ]
  },
  {
   "cell_type": "code",
   "execution_count": 27,
   "id": "5d3bad68",
   "metadata": {},
   "outputs": [
    {
     "name": "stdout",
     "output_type": "stream",
     "text": [
      "Enter an integer n: 5\n",
      "The result is  615\n"
     ]
    }
   ],
   "source": [
    "# question 2\n",
    "# compute the value n+nn+nnn\n",
    "n= input(\"Enter an integer n: \")\n",
    "print(\"The result is \", int(n*1)+int(n*2)+int(n*3))"
   ]
  },
  {
   "cell_type": "code",
   "execution_count": 7,
   "id": "9d7e7759",
   "metadata": {},
   "outputs": [
    {
     "name": "stdout",
     "output_type": "stream",
     "text": [
      "Enter a number : 14\n",
      "14 is an even number\n"
     ]
    }
   ],
   "source": [
    "# question 3\n",
    "# even or odd number\n",
    "n=int(input(\"Enter a number : \"))\n",
    "rn=(n%2)\n",
    "if (rn==0):\n",
    "    print(n, \"is an even number\")\n",
    "else:\n",
    "    print(n, \"is an odd number\")\n"
   ]
  },
  {
   "cell_type": "code",
   "execution_count": 14,
   "id": "0bb58845",
   "metadata": {},
   "outputs": [
    {
     "name": "stdout",
     "output_type": "stream",
     "text": [
      "2002\n",
      "2009\n",
      "2016\n",
      "2023\n",
      "2037\n",
      "2044\n",
      "2051\n",
      "2058\n",
      "2072\n",
      "2079\n",
      "2086\n",
      "2093\n",
      "2107\n",
      "2114\n",
      "2121\n",
      "2128\n",
      "2142\n",
      "2149\n",
      "2156\n",
      "2163\n",
      "2177\n",
      "2184\n",
      "2191\n",
      "2198\n",
      "2212\n",
      "2219\n",
      "2226\n",
      "2233\n",
      "2247\n",
      "2254\n",
      "2261\n",
      "2268\n",
      "2282\n",
      "2289\n",
      "2296\n",
      "2303\n",
      "2317\n",
      "2324\n",
      "2331\n",
      "2338\n",
      "2352\n",
      "2359\n",
      "2366\n",
      "2373\n",
      "2387\n",
      "2394\n",
      "2401\n",
      "2408\n",
      "2422\n",
      "2429\n",
      "2436\n",
      "2443\n",
      "2457\n",
      "2464\n",
      "2471\n",
      "2478\n",
      "2492\n",
      "2499\n",
      "2506\n",
      "2513\n",
      "2527\n",
      "2534\n",
      "2541\n",
      "2548\n",
      "2562\n",
      "2569\n",
      "2576\n",
      "2583\n",
      "2597\n",
      "2604\n",
      "2611\n",
      "2618\n",
      "2632\n",
      "2639\n",
      "2646\n",
      "2653\n",
      "2667\n",
      "2674\n",
      "2681\n",
      "2688\n",
      "2702\n",
      "2709\n",
      "2716\n",
      "2723\n",
      "2737\n",
      "2744\n",
      "2751\n",
      "2758\n",
      "2772\n",
      "2779\n",
      "2786\n",
      "2793\n",
      "2807\n",
      "2814\n",
      "2821\n",
      "2828\n",
      "2842\n",
      "2849\n",
      "2856\n",
      "2863\n",
      "2877\n",
      "2884\n",
      "2891\n",
      "2898\n",
      "2912\n",
      "2919\n",
      "2926\n",
      "2933\n",
      "2947\n",
      "2954\n",
      "2961\n",
      "2968\n",
      "2982\n",
      "2989\n",
      "2996\n",
      "3003\n",
      "3017\n",
      "3024\n",
      "3031\n",
      "3038\n",
      "3052\n",
      "3059\n",
      "3066\n",
      "3073\n",
      "3087\n",
      "3094\n",
      "3101\n",
      "3108\n",
      "3122\n",
      "3129\n",
      "3136\n",
      "3143\n",
      "3157\n",
      "3164\n",
      "3171\n",
      "3178\n",
      "3192\n",
      "3199\n"
     ]
    }
   ],
   "source": [
    "# question 4\n",
    "# numbers which are divisible by 7 but are not multiple of 5\n",
    "# between 2000 and 3200 (both icluded)\n",
    "min=2000\n",
    "max=3200\n",
    "for i in range(min,max):\n",
    "    if i%7==0 and i%5!=0:\n",
    "        print(i)\n",
    "# how can i do to print the result in a sequence of a single line        \n"
   ]
  },
  {
   "cell_type": "code",
   "execution_count": 3,
   "id": "1e870e0d",
   "metadata": {},
   "outputs": [
    {
     "name": "stdout",
     "output_type": "stream",
     "text": [
      "Enter a number: 4\n",
      "4! = 24\n"
     ]
    }
   ],
   "source": [
    "# question 5\n",
    "# compute the factorial of a number\n",
    "num = int(input(\"Enter a number: \"))\n",
    "fact=1\n",
    "if (num<0):\n",
    "    print(\"can not compute factorial for negative number\")\n",
    "elif (num<2):\n",
    "    print(\"{}! = {}\".format(num, fact))\n",
    "else:\n",
    "    for n in range(num,1,-1):\n",
    "        fact=fact*n\n",
    "print(\"{}! = {}\".format(num, fact))\n",
    "        \n",
    "        "
   ]
  },
  {
   "cell_type": "code",
   "execution_count": 6,
   "id": "e528af80",
   "metadata": {},
   "outputs": [
    {
     "name": "stdout",
     "output_type": "stream",
     "text": [
      "Enter any string: chabane\n",
      " hbn\n"
     ]
    }
   ],
   "source": [
    "# Question 6\n",
    "# remove the characters which have odd index values of a given string\n",
    "s=input(\"Enter any string: \")\n",
    "w=\" \"\n",
    "for i in range(0,len(s)):\n",
    "    if i%2!=0:\n",
    "        w+=s[i]\n",
    "print(w)        "
   ]
  },
  {
   "cell_type": "code",
   "execution_count": 9,
   "id": "8eb5fe4c",
   "metadata": {},
   "outputs": [
    {
     "name": "stdout",
     "output_type": "stream",
     "text": [
      "Enter a value: 150\n",
      "The discount is  15.0\n"
     ]
    }
   ],
   "source": [
    "# Question 7\n",
    "# discount a price according to its value\n",
    "price=int(input(\"Enter a value: \"))\n",
    "if (price>=500):\n",
    "    print(\"The discount is \", (price*0.5))\n",
    "elif (200<=price) and (price<500):\n",
    "    print(\"The discout is \",(price*0.3))\n",
    "else:\n",
    "    print(\"The discount is \",(price*0.1))"
   ]
  },
  {
   "cell_type": "code",
   "execution_count": null,
   "id": "e8169a1f",
   "metadata": {},
   "outputs": [],
   "source": []
  }
 ],
 "metadata": {
  "kernelspec": {
   "display_name": "Python 3 (ipykernel)",
   "language": "python",
   "name": "python3"
  },
  "language_info": {
   "codemirror_mode": {
    "name": "ipython",
    "version": 3
   },
   "file_extension": ".py",
   "mimetype": "text/x-python",
   "name": "python",
   "nbconvert_exporter": "python",
   "pygments_lexer": "ipython3",
   "version": "3.9.7"
  }
 },
 "nbformat": 4,
 "nbformat_minor": 5
}
